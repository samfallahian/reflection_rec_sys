{
 "cells": [
  {
   "cell_type": "markdown",
   "id": "6e0f1a18",
   "metadata": {},
   "source": [
    "# System Updates: Adding LLM"
   ]
  },
  {
   "cell_type": "markdown",
   "id": "aecdfac6",
   "metadata": {},
   "source": [
    "Charts: https://www.canva.com/design/DAGAzyZZsoY/rkmJ2lIRU_38ONCR0-rifQ/edit?utm_content=DAGAzyZZsoY&utm_campaign=designshare&utm_medium=link2&utm_source=sharebutton"
   ]
  },
  {
   "cell_type": "markdown",
   "id": "f512ee47",
   "metadata": {},
   "source": [
    "Basically we need to figure out how to include LLM into the system. Based on the chart above, the input will be some form of the student's challenge. Optional additions would be *other* students similar challenges and/or their solutions (to be added to the LLM prompt). We will experiment with what prompts to use for good outputs.   "
   ]
  },
  {
   "cell_type": "markdown",
   "id": "f592ade7",
   "metadata": {},
   "source": [
    "## Step 1. Connect to LLM (ChatGpt) API"
   ]
  },
  {
   "cell_type": "code",
   "execution_count": 28,
   "id": "fdfcdc0a",
   "metadata": {},
   "outputs": [
    {
     "name": "stdout",
     "output_type": "stream",
     "text": [
      "Collecting openai==0.28.1\n",
      "  Using cached openai-0.28.1-py3-none-any.whl.metadata (11 kB)\n",
      "Requirement already satisfied: requests>=2.20 in d:\\projects\\reflection_rec_sys\\env\\lib\\site-packages (from openai==0.28.1) (2.31.0)\n",
      "Requirement already satisfied: tqdm in d:\\projects\\reflection_rec_sys\\env\\lib\\site-packages (from openai==0.28.1) (4.64.1)\n",
      "Requirement already satisfied: aiohttp in d:\\projects\\reflection_rec_sys\\env\\lib\\site-packages (from openai==0.28.1) (3.9.3)\n",
      "Requirement already satisfied: charset-normalizer<4,>=2 in d:\\projects\\reflection_rec_sys\\env\\lib\\site-packages (from requests>=2.20->openai==0.28.1) (2.1.1)\n",
      "Requirement already satisfied: idna<4,>=2.5 in d:\\projects\\reflection_rec_sys\\env\\lib\\site-packages (from requests>=2.20->openai==0.28.1) (3.4)\n",
      "Requirement already satisfied: urllib3<3,>=1.21.1 in d:\\projects\\reflection_rec_sys\\env\\lib\\site-packages (from requests>=2.20->openai==0.28.1) (1.26.13)\n",
      "Requirement already satisfied: certifi>=2017.4.17 in d:\\projects\\reflection_rec_sys\\env\\lib\\site-packages (from requests>=2.20->openai==0.28.1) (2022.9.24)\n",
      "Requirement already satisfied: aiosignal>=1.1.2 in d:\\projects\\reflection_rec_sys\\env\\lib\\site-packages (from aiohttp->openai==0.28.1) (1.3.1)\n",
      "Requirement already satisfied: attrs>=17.3.0 in d:\\projects\\reflection_rec_sys\\env\\lib\\site-packages (from aiohttp->openai==0.28.1) (23.2.0)\n",
      "Requirement already satisfied: frozenlist>=1.1.1 in d:\\projects\\reflection_rec_sys\\env\\lib\\site-packages (from aiohttp->openai==0.28.1) (1.4.1)\n",
      "Requirement already satisfied: multidict<7.0,>=4.5 in d:\\projects\\reflection_rec_sys\\env\\lib\\site-packages (from aiohttp->openai==0.28.1) (6.0.5)\n",
      "Requirement already satisfied: yarl<2.0,>=1.0 in d:\\projects\\reflection_rec_sys\\env\\lib\\site-packages (from aiohttp->openai==0.28.1) (1.9.4)\n",
      "Requirement already satisfied: async-timeout<5.0,>=4.0 in d:\\projects\\reflection_rec_sys\\env\\lib\\site-packages (from aiohttp->openai==0.28.1) (4.0.3)\n",
      "Requirement already satisfied: colorama in d:\\projects\\reflection_rec_sys\\env\\lib\\site-packages (from tqdm->openai==0.28.1) (0.4.6)\n",
      "Using cached openai-0.28.1-py3-none-any.whl (76 kB)\n",
      "Installing collected packages: openai\n",
      "Successfully installed openai-0.28.1\n"
     ]
    }
   ],
   "source": [
    "# First: Install it\n",
    "!pip install openai==0.28.1"
   ]
  },
  {
   "cell_type": "code",
   "execution_count": 32,
   "id": "fe31933c-2c37-4587-9e57-f72e0a48a91d",
   "metadata": {},
   "outputs": [],
   "source": [
    "# debugging stuff/some steps while figuring it out\n",
    "#!pip uninstall typing_extensions --yes\n",
    "#!pip install typing_extensions==4.7.1\n",
    "#!pip install typing_extensions==4.7.1 --upgrade\n",
    "#!pip install typing_extensions==4.8 --upgrade"
   ]
  },
  {
   "cell_type": "code",
   "execution_count": 18,
   "id": "9e15b172",
   "metadata": {},
   "outputs": [],
   "source": [
    "import openai\n",
    "import json\n",
    "import time"
   ]
  },
  {
   "cell_type": "markdown",
   "id": "2ca732d0-0849-46c9-a965-5c62d2e43520",
   "metadata": {},
   "source": [
    "We have imported an older version so things don't break (:"
   ]
  },
  {
   "cell_type": "markdown",
   "id": "faa4a089-dcb4-4ce1-9d5e-76f7f3616cd5",
   "metadata": {},
   "source": [
    "First, get the API key so we can actually do stuff. (:"
   ]
  },
  {
   "cell_type": "code",
   "execution_count": 19,
   "id": "ed82f1a2-2f5b-4afb-9f99-d8579f51504e",
   "metadata": {},
   "outputs": [],
   "source": [
    "# Load the configuration from the JSON file\n",
    "with open(\"../configs/openai_key.json\", \"r\") as config_file:\n",
    "    config = json.load(config_file)"
   ]
  },
  {
   "cell_type": "code",
   "execution_count": 20,
   "id": "ce1359a8-6816-4861-ac21-1ce66db5280e",
   "metadata": {},
   "outputs": [],
   "source": [
    "# Access the values\n",
    "openai.api_key = config[\"api_key\"]"
   ]
  },
  {
   "cell_type": "code",
   "execution_count": null,
   "id": "e7554642-b30a-490e-806b-8a5496a87571",
   "metadata": {},
   "outputs": [],
   "source": []
  },
  {
   "cell_type": "markdown",
   "id": "b6dc4f8e-0c0b-4586-ad1a-43a42a6c2be2",
   "metadata": {},
   "source": [
    "Some magical method from Sandra who has blessed us with this code.  \n",
    "Parameters:  \n",
    "- prompt: literally the prompt you are sending into chatgpt\n",
    "- input: basically whatever value(s) we want the prompt to act upon"
   ]
  },
  {
   "cell_type": "code",
   "execution_count": 21,
   "id": "db2101d0-739b-44b4-9047-c7cf807c9b1b",
   "metadata": {},
   "outputs": [],
   "source": [
    "models = [\"gpt-3.5-turbo\", \"gpt-4-0125-preview\"]"
   ]
  },
  {
   "cell_type": "code",
   "execution_count": 22,
   "id": "fb68103f-4874-4bb1-ab85-24809cc99a99",
   "metadata": {},
   "outputs": [],
   "source": [
    "def general_prompt(prompt, data, model_select=models[0]):\n",
    "        if model_select == models[0]:\n",
    "            request_timeout = 10\n",
    "        elif model_select == models[1]:\n",
    "            request_timeout = 30\n",
    "        retries = 3\n",
    "        for _ in range(retries + 1):  # Include the initial attempt plus the specified retries\n",
    "            try:\n",
    "                response = openai.ChatCompletion.create(\n",
    "                    model=model_select,\n",
    "                    messages=[\n",
    "                        # Input the prompt\n",
    "                        {\"role\": \"system\", \"content\": prompt},\n",
    "                        # Input reflection response\n",
    "                        {\"role\": \"user\", \"content\": data},\n",
    "                    ],\n",
    "                    temperature=0.7,\n",
    "                    max_tokens=2000,\n",
    "                    request_timeout=request_timeout,\n",
    "                    \n",
    "                )\n",
    "                # If the request was successful, break out of the loop\n",
    "                break\n",
    "            except openai.error.OpenAIError as e:\n",
    "                # Handle the error (e.g., print the error message)\n",
    "                print(\"Error:\", e)\n",
    "            except TimeoutError:\n",
    "                # Handle a timeout (e.g., print a message or take other actions)\n",
    "                print(\"Request timed out\")\n",
    "            \n",
    "            # Add a delay before retrying (to avoid immediate retries)\n",
    "            time.sleep(1)\n",
    "\n",
    "        if response and len(response.choices) > 0:\n",
    "            prompt_response =  str(response['choices'][0]['message']['content'])\n",
    "            print(prompt_response )\n",
    "            return (prompt_response)"
   ]
  },
  {
   "cell_type": "markdown",
   "id": "a423aeb5-d178-45e8-afca-306f1974c63f",
   "metadata": {},
   "source": [
    "## Trying out prompts\n",
    "\n",
    "First, we are asking it to generate advice based on the students challenge alone:"
   ]
  },
  {
   "cell_type": "markdown",
   "id": "599db13d-551f-4c45-a943-4f4333b83b72",
   "metadata": {},
   "source": [
    "One student's challenge is: **I would say my biggest challenge was time management. It was a little difficult for me to plan out everything the way I wanted and along with my other class work that did not help with me getting the time to do everything I needed to.**"
   ]
  },
  {
   "cell_type": "code",
   "execution_count": 51,
   "id": "dcc61270-208d-4461-ac84-061dad06a0dc",
   "metadata": {},
   "outputs": [],
   "source": [
    "prompt = ''' You are an instructor helping students with their challenges. Based on this student's challenge, what advice would you send to them?'''\n",
    "data = '''I would say my biggest challenge was time management. It was a little difficult for me to plan out everything the way I wanted and along with my other class work that did not help with me getting the time to do everything I needed to.'''"
   ]
  },
  {
   "cell_type": "code",
   "execution_count": 52,
   "id": "22af602b-0118-47ca-a116-738dde11d99a",
   "metadata": {
    "scrolled": true
   },
   "outputs": [
    {
     "name": "stdout",
     "output_type": "stream",
     "text": [
      "Time management can be a common challenge for many students, but there are strategies you can use to improve in this area. Here are some tips that may help you better manage your time:\n",
      "\n",
      "1. **Create a Schedule:** Start by creating a daily or weekly schedule that includes all your classes, assignments, study time, and other commitments. This will help you visualize how you are spending your time and identify areas where you can be more efficient.\n",
      "\n",
      "2. **Prioritize Tasks:** Make a list of tasks and prioritize them based on deadlines and importance. Focus on completing high-priority tasks first to ensure you meet your deadlines and stay on track.\n",
      "\n",
      "3. **Set Realistic Goals:** Be realistic about what you can accomplish in a given amount of time. Break down larger tasks into smaller, manageable steps to make them feel less overwhelming.\n",
      "\n",
      "4. **Eliminate Distractions:** Identify and eliminate distractions that may be taking up your time unnecessarily, such as social media, TV, or unnecessary meetings. Create a designated study space that is free from distractions.\n",
      "\n",
      "5. **Take Breaks:** It's important to take breaks to rest and recharge your mind. Schedule short breaks between study sessions to avoid burnout and improve your focus.\n",
      "\n",
      "6. **Seek Help When Needed:** Don't hesitate to reach out to your instructors, classmates, or a tutor if you're struggling with a particular subject or assignment. Asking for help can save you time in the long run.\n",
      "\n",
      "7. **Practice Self-Care:** Remember to take care of yourself by getting enough sleep, eating well, and exercising regularly. A healthy body and mind will help you stay focused and productive.\n",
      "\n",
      "By implementing these strategies and making time management a priority, you can improve your productivity and find a better balance between your academic and personal responsibilities. Don't get discouraged if you don't see immediate results – developing good time management skills takes practice and consistency. Keep experimenting with different techniques until you find what works best for you.\n"
     ]
    },
    {
     "data": {
      "text/plain": [
       "\"Time management can be a common challenge for many students, but there are strategies you can use to improve in this area. Here are some tips that may help you better manage your time:\\n\\n1. **Create a Schedule:** Start by creating a daily or weekly schedule that includes all your classes, assignments, study time, and other commitments. This will help you visualize how you are spending your time and identify areas where you can be more efficient.\\n\\n2. **Prioritize Tasks:** Make a list of tasks and prioritize them based on deadlines and importance. Focus on completing high-priority tasks first to ensure you meet your deadlines and stay on track.\\n\\n3. **Set Realistic Goals:** Be realistic about what you can accomplish in a given amount of time. Break down larger tasks into smaller, manageable steps to make them feel less overwhelming.\\n\\n4. **Eliminate Distractions:** Identify and eliminate distractions that may be taking up your time unnecessarily, such as social media, TV, or unnecessary meetings. Create a designated study space that is free from distractions.\\n\\n5. **Take Breaks:** It's important to take breaks to rest and recharge your mind. Schedule short breaks between study sessions to avoid burnout and improve your focus.\\n\\n6. **Seek Help When Needed:** Don't hesitate to reach out to your instructors, classmates, or a tutor if you're struggling with a particular subject or assignment. Asking for help can save you time in the long run.\\n\\n7. **Practice Self-Care:** Remember to take care of yourself by getting enough sleep, eating well, and exercising regularly. A healthy body and mind will help you stay focused and productive.\\n\\nBy implementing these strategies and making time management a priority, you can improve your productivity and find a better balance between your academic and personal responsibilities. Don't get discouraged if you don't see immediate results – developing good time management skills takes practice and consistency. Keep experimenting with different techniques until you find what works best for you.\""
      ]
     },
     "execution_count": 52,
     "metadata": {},
     "output_type": "execute_result"
    }
   ],
   "source": [
    "general_prompt(prompt, data)"
   ]
  },
  {
   "cell_type": "markdown",
   "id": "b6165553-8f2e-45af-a69d-778da8e1418c",
   "metadata": {},
   "source": [
    "Some of the \"similar\" challenges are:  \n",
    "- Time management was probably my biggest issue here this project. Seems like all of my other classes ramped up all at the same time for some reason so I felt like I rushed a bit with this project and didn't really get to do all that I wanted to do with it.\n",
    "- Time management seems to be the most challenging aspect this last module, simply due to an overload of work I have to complete.\n",
    "- I think the biggest challenge for me this past module was to manage my time. Because of midterm week, I found it difficult to find time all my classes and study for my midterms.Ã‚Â\n",
    "- This project's biggest challenge was the due date, I had a bunch of assignments and midterms all week, so I could not focus on the project."
   ]
  },
  {
   "cell_type": "markdown",
   "id": "1468fed1-cfac-4f24-8500-f2ab6a8c5df3",
   "metadata": {},
   "source": [
    "The current student's written solution was: \"I took steps of trying to allow certain time periods to work on my work that needed to be done.\"  \n",
    "Similar student's solutions:  \n",
    "- Coffee and a very supportive partner!\n",
    "- Looking ahead at assignments and prioritizing what is most important helped me sort through this past few weeks (although with work it was a struggle). It allowed me to allocate time to specific tasks that would require longer time-investment.\n",
    "- I tried to priortize everthing that I could and work on the project as much as I could.Ã‚Â\n",
    "- I turned in a couple days late when I could sit down and finish and give it my best effort."
   ]
  },
  {
   "cell_type": "code",
   "execution_count": 54,
   "id": "8a13f819-3a43-45f5-8824-e21e051e71bd",
   "metadata": {},
   "outputs": [],
   "source": [
    "similar_challenges = '''\n",
    "\n",
    "Student 1:\n",
    "Challenge: Time management was probably my biggest issue here this project. Seems like all of my other classes ramped up all at the same time for some reason so I felt like I rushed a bit with this project and didn't really get to do all that I wanted to do with it.\n",
    "Solution: Coffee and a very supportive partner!\n",
    "\n",
    "Student 2:\n",
    "Challenge: Time management seems to be the most challenging aspect this last module, simply due to an overload of work I have to complete.\n",
    "Solution: Looking ahead at assignments and prioritizing what is most important helped me sort through this past few weeks (although with work it was a struggle). It allowed me to allocate time to specific tasks that would require longer time-investment.\n",
    "\n",
    "Student 3:\n",
    "Challenge: I think the biggest challenge for me this past module was to manage my time. Because of midterm week, I found it difficult to find time all my classes and study for my midterms.Ã‚Â\n",
    "Solution: I tried to priortize everthing that I could and work on the project as much as I could.Ã‚Â\n",
    "\n",
    "Student 4:\n",
    "Challenge: This project's biggest challenge was the due date, I had a bunch of assignments and midterms all week, so I could not focus on the project.\n",
    "Solution:  I turned in a couple days late when I could sit down and finish and give it my best effort.\n",
    "\n",
    "'''"
   ]
  },
  {
   "cell_type": "code",
   "execution_count": 55,
   "id": "f1d97de9-fe38-4393-a15a-e28d60890ccc",
   "metadata": {},
   "outputs": [],
   "source": [
    "prompt = f''' You are an instructor who wants to help students with their challenges but also increase students' sense of belonging.\n",
    "You are given a current students' reflection called Student Reflection. \n",
    "\n",
    "The reflection prompts were What was your biggest challenge? and 'What is a potential solution to your challenge?'\n",
    "\n",
    "You are also given former students' reflections that should have similar challenges and the solutions they suggested.\n",
    "\n",
    "Please write an email to the student that accomplishes the following tasks:\n",
    "(1) Assures the student that they are not alone with their challenge, and summarize the challenges of previous students.\n",
    "(2) Summarize the previous students' solutions as well, and comment on the usefulness of the solutions.\n",
    "(3) Provide your own solutions to the challenge based on your understanding of best practices in teaching.\n",
    "\n",
    "Students' Previous Challenges:\n",
    "{similar_challenges}\n",
    "\n",
    "'''\n"
   ]
  },
  {
   "cell_type": "markdown",
   "id": "cca4ee39-e4bc-4ed1-acab-7d89934faac2",
   "metadata": {},
   "source": [
    "### We are testing with 3.5 here."
   ]
  },
  {
   "cell_type": "code",
   "execution_count": 56,
   "id": "eaf9333d-41a5-4b04-acff-d740bb3347c7",
   "metadata": {},
   "outputs": [
    {
     "name": "stdout",
     "output_type": "stream",
     "text": [
      "Subject: You're not alone in this challenge - Solutions to improve time management\n",
      "\n",
      "Dear Student,\n",
      "\n",
      "I hope this email finds you well. I read your reflection and want to assure you that you are not alone in facing time management challenges. Many students in the past have also struggled with similar issues. Let me summarize some of their challenges for you:\n",
      "\n",
      "- Student 1 felt rushed with their project due to other classes ramping up simultaneously.\n",
      "- Student 2 faced time management difficulties due to an overload of work.\n",
      "- Student 3 found it hard to manage time during midterm week.\n",
      "- Student 4 struggled to focus on the project due to multiple assignments and midterms.\n",
      "\n",
      "In terms of solutions, previous students have shared some helpful strategies:\n",
      "- Student 1 found support in coffee and a supportive partner.\n",
      "- Student 2 overcame the challenge by looking ahead at assignments and prioritizing tasks.\n",
      "- Student 3 prioritized tasks and worked on the project whenever possible.\n",
      "- Student 4 submitted the project a few days late to ensure they could give it their best effort.\n",
      "\n",
      "These solutions have proven useful for many students. Planning ahead, prioritizing tasks, seeking support, and allowing flexibility with deadlines are effective ways to manage time efficiently.\n",
      "\n",
      "In addition to these strategies, I recommend breaking down your tasks into smaller, manageable chunks, creating a daily schedule, and utilizing time management tools like calendars or apps. Setting realistic goals and setting aside dedicated time for each task can also help you stay on track.\n",
      "\n",
      "Remember, it's okay to ask for help when needed, whether from your instructors, classmates, or academic support services. We are here to support you in overcoming these challenges and succeeding in your academic journey.\n",
      "\n",
      "If you need any further assistance or guidance on improving your time management skills, please don't hesitate to reach out. Your success is important to us, and we are here to help you every step of the way.\n",
      "\n",
      "Best regards,\n",
      "\n",
      "[Your Name]\n",
      "[Your Title]\n",
      "[Your Contact Information]\n"
     ]
    },
    {
     "data": {
      "text/plain": [
       "\"Subject: You're not alone in this challenge - Solutions to improve time management\\n\\nDear Student,\\n\\nI hope this email finds you well. I read your reflection and want to assure you that you are not alone in facing time management challenges. Many students in the past have also struggled with similar issues. Let me summarize some of their challenges for you:\\n\\n- Student 1 felt rushed with their project due to other classes ramping up simultaneously.\\n- Student 2 faced time management difficulties due to an overload of work.\\n- Student 3 found it hard to manage time during midterm week.\\n- Student 4 struggled to focus on the project due to multiple assignments and midterms.\\n\\nIn terms of solutions, previous students have shared some helpful strategies:\\n- Student 1 found support in coffee and a supportive partner.\\n- Student 2 overcame the challenge by looking ahead at assignments and prioritizing tasks.\\n- Student 3 prioritized tasks and worked on the project whenever possible.\\n- Student 4 submitted the project a few days late to ensure they could give it their best effort.\\n\\nThese solutions have proven useful for many students. Planning ahead, prioritizing tasks, seeking support, and allowing flexibility with deadlines are effective ways to manage time efficiently.\\n\\nIn addition to these strategies, I recommend breaking down your tasks into smaller, manageable chunks, creating a daily schedule, and utilizing time management tools like calendars or apps. Setting realistic goals and setting aside dedicated time for each task can also help you stay on track.\\n\\nRemember, it's okay to ask for help when needed, whether from your instructors, classmates, or academic support services. We are here to support you in overcoming these challenges and succeeding in your academic journey.\\n\\nIf you need any further assistance or guidance on improving your time management skills, please don't hesitate to reach out. Your success is important to us, and we are here to help you every step of the way.\\n\\nBest regards,\\n\\n[Your Name]\\n[Your Title]\\n[Your Contact Information]\""
      ]
     },
     "execution_count": 56,
     "metadata": {},
     "output_type": "execute_result"
    }
   ],
   "source": [
    "general_prompt(prompt, data)"
   ]
  },
  {
   "cell_type": "markdown",
   "id": "4dc779ae-336e-404b-9abe-0694680bdfba",
   "metadata": {},
   "source": [
    "### Now we are looking at gpt 4."
   ]
  },
  {
   "cell_type": "code",
   "execution_count": 64,
   "id": "f6840a36-7f09-4a3b-8618-651f6237782e",
   "metadata": {},
   "outputs": [
    {
     "name": "stdout",
     "output_type": "stream",
     "text": [
      "Error: Request timed out: HTTPSConnectionPool(host='api.openai.com', port=443): Read timed out. (read timeout=30)\n",
      "Error: Request timed out: HTTPSConnectionPool(host='api.openai.com', port=443): Read timed out. (read timeout=30)\n",
      "Subject: You're Not Alone: Strategies for Overcoming Time Management Challenges\n",
      "\n",
      "Dear [Student's Name],\n",
      "\n",
      "I hope this message finds you well. I wanted to reach out to you after reading your recent reflection on the challenges you've been facing, particularly around time management. It's clear that balancing your workload and finding the time to complete everything to your satisfaction has been a struggle. I want to assure you that you are not alone in this.\n",
      "\n",
      "Many of your peers have shared similar experiences in their reflections. For example, several students have mentioned that coinciding deadlines across different subjects, midterm weeks, and the overall increase in workload significantly impacted their ability to manage their time effectively. It's a common challenge, especially in rigorous academic environments.\n",
      "\n",
      "From their reflections, a few potential solutions emerged. One student found relief in the support of their partner and the strategic use of caffeine, highlighting the importance of having a support system and sometimes, a bit of a boost to get through intensive periods. Another student tackled the issue by planning ahead, prioritizing assignments based on importance and deadline, which helped them allocate their time more efficiently, even though it was still a struggle due to work commitments. Similarly, prioritizing tasks and dedicating time to the most immediate needs was a strategy others found somewhat helpful. And then, there was a student who opted for negotiating a later submission to ensure they could deliver their work at their best, emphasizing quality over punctuality in extreme cases.\n",
      "\n",
      "While these solutions have their merits, they also reflect the need for a more structured approach to managing time effectively. Here are a few strategies I believe could further assist you:\n",
      "\n",
      "1. **Use a Digital Planner or Calendar**: Leveraging technology can help you visualize your deadlines and commitments. Setting reminders for upcoming deadlines can also keep you on track.\n",
      "\n",
      "2. **Break Down Tasks**: Large projects can seem overwhelming. Breaking them down into smaller, manageable tasks can make it easier to start and maintain momentum.\n",
      "\n",
      "3. **Establish a Routine**: Try to set specific times for studying, breaks, and leisure. A consistent routine can help improve focus and efficiency.\n",
      "\n",
      "4. **Learn to Say No**: It's important to recognize your limits and not overcommit, especially during peak academic periods.\n",
      "\n",
      "5. **Seek Support**: Don't hesitate to discuss your workload with your instructors. We're here to help you succeed and can sometimes offer extensions or advice on managing your workload.\n",
      "\n",
      "Remember, it's perfectly okay to seek out help and use these strategies to find what works best for you. Each student's situation is unique, but the goal is to find a balance that allows you to excel without overwhelming yourself. Please feel free to reach out if you'd like to discuss this further or need support in any way. You're part of a community that cares about your success and well-being.\n",
      "\n",
      "Wishing you the best,\n",
      "\n",
      "[Your Name]\n"
     ]
    },
    {
     "data": {
      "text/plain": [
       "\"Subject: You're Not Alone: Strategies for Overcoming Time Management Challenges\\n\\nDear [Student's Name],\\n\\nI hope this message finds you well. I wanted to reach out to you after reading your recent reflection on the challenges you've been facing, particularly around time management. It's clear that balancing your workload and finding the time to complete everything to your satisfaction has been a struggle. I want to assure you that you are not alone in this.\\n\\nMany of your peers have shared similar experiences in their reflections. For example, several students have mentioned that coinciding deadlines across different subjects, midterm weeks, and the overall increase in workload significantly impacted their ability to manage their time effectively. It's a common challenge, especially in rigorous academic environments.\\n\\nFrom their reflections, a few potential solutions emerged. One student found relief in the support of their partner and the strategic use of caffeine, highlighting the importance of having a support system and sometimes, a bit of a boost to get through intensive periods. Another student tackled the issue by planning ahead, prioritizing assignments based on importance and deadline, which helped them allocate their time more efficiently, even though it was still a struggle due to work commitments. Similarly, prioritizing tasks and dedicating time to the most immediate needs was a strategy others found somewhat helpful. And then, there was a student who opted for negotiating a later submission to ensure they could deliver their work at their best, emphasizing quality over punctuality in extreme cases.\\n\\nWhile these solutions have their merits, they also reflect the need for a more structured approach to managing time effectively. Here are a few strategies I believe could further assist you:\\n\\n1. **Use a Digital Planner or Calendar**: Leveraging technology can help you visualize your deadlines and commitments. Setting reminders for upcoming deadlines can also keep you on track.\\n\\n2. **Break Down Tasks**: Large projects can seem overwhelming. Breaking them down into smaller, manageable tasks can make it easier to start and maintain momentum.\\n\\n3. **Establish a Routine**: Try to set specific times for studying, breaks, and leisure. A consistent routine can help improve focus and efficiency.\\n\\n4. **Learn to Say No**: It's important to recognize your limits and not overcommit, especially during peak academic periods.\\n\\n5. **Seek Support**: Don't hesitate to discuss your workload with your instructors. We're here to help you succeed and can sometimes offer extensions or advice on managing your workload.\\n\\nRemember, it's perfectly okay to seek out help and use these strategies to find what works best for you. Each student's situation is unique, but the goal is to find a balance that allows you to excel without overwhelming yourself. Please feel free to reach out if you'd like to discuss this further or need support in any way. You're part of a community that cares about your success and well-being.\\n\\nWishing you the best,\\n\\n[Your Name]\""
      ]
     },
     "execution_count": 64,
     "metadata": {},
     "output_type": "execute_result"
    }
   ],
   "source": [
    "general_prompt(prompt, data, models[1])"
   ]
  },
  {
   "cell_type": "markdown",
   "id": "80ca4d1c-231c-470c-bd0f-c5a2440027ea",
   "metadata": {},
   "source": [
    "## Load previous results csv and iterate through"
   ]
  },
  {
   "cell_type": "code",
   "execution_count": 1,
   "id": "976ccc4c-bd5b-4518-9df9-5d95192ebc4a",
   "metadata": {},
   "outputs": [],
   "source": [
    "import pandas as pd"
   ]
  },
  {
   "cell_type": "code",
   "execution_count": 3,
   "id": "88254757-6e2d-440d-84fe-e497e5305501",
   "metadata": {},
   "outputs": [],
   "source": [
    "results = pd.read_csv('../results/2022-11-29-22-36-00_3155.csv')"
   ]
  },
  {
   "cell_type": "code",
   "execution_count": 4,
   "id": "cd74e92b-00db-401f-bac7-6bb5230a4554",
   "metadata": {},
   "outputs": [
    {
     "data": {
      "text/html": [
       "<div>\n",
       "<style scoped>\n",
       "    .dataframe tbody tr th:only-of-type {\n",
       "        vertical-align: middle;\n",
       "    }\n",
       "\n",
       "    .dataframe tbody tr th {\n",
       "        vertical-align: top;\n",
       "    }\n",
       "\n",
       "    .dataframe thead th {\n",
       "        text-align: right;\n",
       "    }\n",
       "</style>\n",
       "<table border=\"1\" class=\"dataframe\">\n",
       "  <thead>\n",
       "    <tr style=\"text-align: right;\">\n",
       "      <th></th>\n",
       "      <th>email</th>\n",
       "      <th>name</th>\n",
       "      <th>reflection</th>\n",
       "      <th>index_0</th>\n",
       "      <th>cos_score_0</th>\n",
       "      <th>challenge_0</th>\n",
       "      <th>solution_0</th>\n",
       "      <th>name_0</th>\n",
       "      <th>index_1</th>\n",
       "      <th>cos_score_1</th>\n",
       "      <th>...</th>\n",
       "      <th>index_3</th>\n",
       "      <th>cos_score_3</th>\n",
       "      <th>challenge_3</th>\n",
       "      <th>solution_3</th>\n",
       "      <th>name_3</th>\n",
       "      <th>index_4</th>\n",
       "      <th>cos_score_4</th>\n",
       "      <th>challenge_4</th>\n",
       "      <th>solution_4</th>\n",
       "      <th>name_4</th>\n",
       "    </tr>\n",
       "  </thead>\n",
       "  <tbody>\n",
       "    <tr>\n",
       "      <th>0</th>\n",
       "      <td>vgovindu@uncc.edu</td>\n",
       "      <td>Vivek Govindu</td>\n",
       "      <td>My biggest challenge was understanding the Inv...</td>\n",
       "      <td>1211</td>\n",
       "      <td>0.574554</td>\n",
       "      <td>I thought that all of the assignments in modul...</td>\n",
       "      <td>Plan better and do assignments early.Â</td>\n",
       "      <td>past student</td>\n",
       "      <td>1204</td>\n",
       "      <td>0.558170</td>\n",
       "      <td>...</td>\n",
       "      <td>78</td>\n",
       "      <td>0.547493</td>\n",
       "      <td>I did not really have a big challenge this pas...</td>\n",
       "      <td>I did not have much challenges this week, but ...</td>\n",
       "      <td>past student</td>\n",
       "      <td>156</td>\n",
       "      <td>0.538889</td>\n",
       "      <td>There haven't really been any challenges for m...</td>\n",
       "      <td>Not applicable because I don't think there was...</td>\n",
       "      <td>past student</td>\n",
       "    </tr>\n",
       "    <tr>\n",
       "      <th>1</th>\n",
       "      <td>elozuke@uncc.edu</td>\n",
       "      <td>Ethan Lozuke</td>\n",
       "      <td>A step in the code was not working and challen...</td>\n",
       "      <td>1423</td>\n",
       "      <td>1.000000</td>\n",
       "      <td>A step in the code was not working and challen...</td>\n",
       "      <td>I talked to my group mates and found that the ...</td>\n",
       "      <td>Ethan Kalika</td>\n",
       "      <td>695</td>\n",
       "      <td>0.720188</td>\n",
       "      <td>...</td>\n",
       "      <td>1308</td>\n",
       "      <td>0.621687</td>\n",
       "      <td>My biggest challenges for the past modules ass...</td>\n",
       "      <td>I was able to overcome this challenge by searc...</td>\n",
       "      <td>Husam Suoamra</td>\n",
       "      <td>1451</td>\n",
       "      <td>0.610749</td>\n",
       "      <td>I found that the past module is somewhat chall...</td>\n",
       "      <td>I was able to overcome this challenge by under...</td>\n",
       "      <td>Husam Suoamra</td>\n",
       "    </tr>\n",
       "    <tr>\n",
       "      <th>2</th>\n",
       "      <td>hstingel@uncc.edu</td>\n",
       "      <td>Hunter Stingel</td>\n",
       "      <td>Time management on my part</td>\n",
       "      <td>1399</td>\n",
       "      <td>0.780023</td>\n",
       "      <td>I think it has been time management</td>\n",
       "      <td>I overcame this challenge by working with tabl...</td>\n",
       "      <td>Aj Chiara</td>\n",
       "      <td>667</td>\n",
       "      <td>0.763546</td>\n",
       "      <td>...</td>\n",
       "      <td>114</td>\n",
       "      <td>0.748190</td>\n",
       "      <td>Time Management</td>\n",
       "      <td>I've made liberal use of the altered dashboard...</td>\n",
       "      <td>past student</td>\n",
       "      <td>242</td>\n",
       "      <td>0.748190</td>\n",
       "      <td>Time management</td>\n",
       "      <td>Stop taking naps at noon every day</td>\n",
       "      <td>past student</td>\n",
       "    </tr>\n",
       "    <tr>\n",
       "      <th>3</th>\n",
       "      <td>alam8@uncc.edu</td>\n",
       "      <td>Andrew Lam</td>\n",
       "      <td>I think the biggest challenge for us right now...</td>\n",
       "      <td>843</td>\n",
       "      <td>0.798328</td>\n",
       "      <td>The biggest challenge thus far has been the co...</td>\n",
       "      <td>As stated, I will put in more time learning an...</td>\n",
       "      <td>past student</td>\n",
       "      <td>1433</td>\n",
       "      <td>0.688697</td>\n",
       "      <td>...</td>\n",
       "      <td>1339</td>\n",
       "      <td>0.672367</td>\n",
       "      <td>My biggest challenge wasn't the actual coding ...</td>\n",
       "      <td>I kept trying but had to reach out to the prof...</td>\n",
       "      <td>Jackson Solis</td>\n",
       "      <td>110</td>\n",
       "      <td>0.666350</td>\n",
       "      <td>The biggest challenge for me was learning abou...</td>\n",
       "      <td>I think I need to take some extra time on the ...</td>\n",
       "      <td>past student</td>\n",
       "    </tr>\n",
       "    <tr>\n",
       "      <th>4</th>\n",
       "      <td>khalonki@uncc.edu</td>\n",
       "      <td>Larissa Halonkin</td>\n",
       "      <td>Catching up on work I missed during my illness</td>\n",
       "      <td>941</td>\n",
       "      <td>0.799192</td>\n",
       "      <td>Having to catch up on the work because of my c...</td>\n",
       "      <td>I've already addressed the challenge by settin...</td>\n",
       "      <td>past student</td>\n",
       "      <td>55</td>\n",
       "      <td>0.750088</td>\n",
       "      <td>...</td>\n",
       "      <td>799</td>\n",
       "      <td>0.691652</td>\n",
       "      <td>I struggled to stay on top of work this week a...</td>\n",
       "      <td>I'm going to try to plan when I do assignments...</td>\n",
       "      <td>past student</td>\n",
       "      <td>369</td>\n",
       "      <td>0.691619</td>\n",
       "      <td>I had to work a lot so I put off assignmentsÃ‚</td>\n",
       "      <td>Start the assignments earlier in the week</td>\n",
       "      <td>past student</td>\n",
       "    </tr>\n",
       "  </tbody>\n",
       "</table>\n",
       "<p>5 rows × 28 columns</p>\n",
       "</div>"
      ],
      "text/plain": [
       "               email              name  \\\n",
       "0  vgovindu@uncc.edu     Vivek Govindu   \n",
       "1   elozuke@uncc.edu      Ethan Lozuke   \n",
       "2  hstingel@uncc.edu    Hunter Stingel   \n",
       "3     alam8@uncc.edu        Andrew Lam   \n",
       "4  khalonki@uncc.edu  Larissa Halonkin   \n",
       "\n",
       "                                          reflection  index_0  cos_score_0  \\\n",
       "0  My biggest challenge was understanding the Inv...     1211     0.574554   \n",
       "1  A step in the code was not working and challen...     1423     1.000000   \n",
       "2                         Time management on my part     1399     0.780023   \n",
       "3  I think the biggest challenge for us right now...      843     0.798328   \n",
       "4     Catching up on work I missed during my illness      941     0.799192   \n",
       "\n",
       "                                         challenge_0  \\\n",
       "0  I thought that all of the assignments in modul...   \n",
       "1  A step in the code was not working and challen...   \n",
       "2                I think it has been time management   \n",
       "3  The biggest challenge thus far has been the co...   \n",
       "4  Having to catch up on the work because of my c...   \n",
       "\n",
       "                                          solution_0        name_0  index_1  \\\n",
       "0            Plan better and do assignments early.Â   past student     1204   \n",
       "1  I talked to my group mates and found that the ...  Ethan Kalika      695   \n",
       "2  I overcame this challenge by working with tabl...     Aj Chiara      667   \n",
       "3  As stated, I will put in more time learning an...  past student     1433   \n",
       "4  I've already addressed the challenge by settin...  past student       55   \n",
       "\n",
       "   cos_score_1  ... index_3 cos_score_3  \\\n",
       "0     0.558170  ...      78    0.547493   \n",
       "1     0.720188  ...    1308    0.621687   \n",
       "2     0.763546  ...     114    0.748190   \n",
       "3     0.688697  ...    1339    0.672367   \n",
       "4     0.750088  ...     799    0.691652   \n",
       "\n",
       "                                         challenge_3  \\\n",
       "0  I did not really have a big challenge this pas...   \n",
       "1  My biggest challenges for the past modules ass...   \n",
       "2                                    Time Management   \n",
       "3  My biggest challenge wasn't the actual coding ...   \n",
       "4  I struggled to stay on top of work this week a...   \n",
       "\n",
       "                                          solution_3         name_3 index_4  \\\n",
       "0  I did not have much challenges this week, but ...   past student     156   \n",
       "1  I was able to overcome this challenge by searc...  Husam Suoamra    1451   \n",
       "2  I've made liberal use of the altered dashboard...   past student     242   \n",
       "3  I kept trying but had to reach out to the prof...  Jackson Solis     110   \n",
       "4  I'm going to try to plan when I do assignments...   past student     369   \n",
       "\n",
       "  cos_score_4                                        challenge_4  \\\n",
       "0    0.538889  There haven't really been any challenges for m...   \n",
       "1    0.610749  I found that the past module is somewhat chall...   \n",
       "2    0.748190                                    Time management   \n",
       "3    0.666350  The biggest challenge for me was learning abou...   \n",
       "4    0.691619     I had to work a lot so I put off assignmentsÃ‚   \n",
       "\n",
       "                                          solution_4         name_4  \n",
       "0  Not applicable because I don't think there was...   past student  \n",
       "1  I was able to overcome this challenge by under...  Husam Suoamra  \n",
       "2                 Stop taking naps at noon every day   past student  \n",
       "3  I think I need to take some extra time on the ...   past student  \n",
       "4          Start the assignments earlier in the week   past student  \n",
       "\n",
       "[5 rows x 28 columns]"
      ]
     },
     "execution_count": 4,
     "metadata": {},
     "output_type": "execute_result"
    }
   ],
   "source": [
    "results.head()"
   ]
  },
  {
   "cell_type": "code",
   "execution_count": null,
   "id": "0b65af42-4978-4d27-91ca-bd68dea53eb7",
   "metadata": {},
   "outputs": [],
   "source": [
    "student_name = []\n"
   ]
  },
  {
   "cell_type": "code",
   "execution_count": null,
   "id": "d60ae733-0b58-42f1-b43f-12e8f431db1c",
   "metadata": {},
   "outputs": [],
   "source": [
    "prompt = f''' You are an instructor who wants to help students with their challenges but also increase students' sense of belonging.\n",
    "You are given a current students' reflection called Student Reflection. \n",
    "\n",
    "The reflection prompts were What was your biggest challenge? and 'What is a potential solution to your challenge?'\n",
    "\n",
    "You are also given former students' reflections that should have similar challenges and the solutions they suggested.\n",
    "\n",
    "Please write an email to the student that accomplishes the following tasks:\n",
    "(1) Assures the student that they are not alone with their challenge, and summarize the challenges of previous students.\n",
    "(2) Summarize the previous students' solutions as well, and comment on the usefulness of the solutions.\n",
    "(3) Provide your own solutions to the challenge based on your understanding of best practices in teaching.\n",
    "\n",
    "Students' Previous Challenges:\n",
    "{similar_challenges}\n",
    "'''\n",
    "similar_challenges = '''\n",
    "\n",
    "Student 1:\n",
    "Challenge: Time management was probably my biggest issue here this project. Seems like all of my other classes ramped up all at the same time for some reason so I felt like I rushed a bit with this project and didn't really get to do all that I wanted to do with it.\n",
    "Solution: Coffee and a very supportive partner!\n",
    "\n",
    "Student 2:\n",
    "Challenge: Time management seems to be the most challenging aspect this last module, simply due to an overload of work I have to complete.\n",
    "Solution: Looking ahead at assignments and prioritizing what is most important helped me sort through this past few weeks (although with work it was a struggle). It allowed me to allocate time to specific tasks that would require longer time-investment.\n",
    "\n",
    "Student 3:\n",
    "Challenge: I think the biggest challenge for me this past module was to manage my time. Because of midterm week, I found it difficult to find time all my classes and study for my midterms.Ã‚Â\n",
    "Solution: I tried to priortize everthing that I could and work on the project as much as I could.Ã‚Â\n",
    "\n",
    "Student 4:\n",
    "Challenge: This project's biggest challenge was the due date, I had a bunch of assignments and midterms all week, so I could not focus on the project.\n",
    "Solution:  I turned in a couple days late when I could sit down and finish and give it my best effort.\n",
    "\n",
    "'''"
   ]
  },
  {
   "cell_type": "code",
   "execution_count": 10,
   "id": "e40e3e8c-5fa3-4cb2-ae1c-4a8365f86d7e",
   "metadata": {},
   "outputs": [],
   "source": [
    "k = 5"
   ]
  },
  {
   "cell_type": "code",
   "execution_count": 27,
   "id": "5e7fa5b8-bb30-435d-ba2f-becf0cafa7e6",
   "metadata": {},
   "outputs": [
    {
     "name": "stdout",
     "output_type": "stream",
     "text": [
      "email                                          vgovindu@uncc.edu\n",
      "name                                               Vivek Govindu\n",
      "reflection     My biggest challenge was understanding the Inv...\n",
      "index_0                                                     1211\n",
      "cos_score_0                                             0.574554\n",
      "challenge_0    I thought that all of the assignments in modul...\n",
      "solution_0               Plan better and do assignments early.Â \n",
      "name_0                                              past student\n",
      "index_1                                                     1204\n",
      "cos_score_1                                              0.55817\n",
      "challenge_1    NothingÂ  really challenging about this module...\n",
      "solution_1     i need to allocate more time in order to learn...\n",
      "name_1                                              past student\n",
      "index_2                                                     1443\n",
      "cos_score_2                                             0.548937\n",
      "challenge_2    Biggest challenge was understanding how to aff...\n",
      "solution_2     I worked with my team to understand what neede...\n",
      "name_2                                             Gage Markgraf\n",
      "index_3                                                       78\n",
      "cos_score_3                                             0.547493\n",
      "challenge_3    I did not really have a big challenge this pas...\n",
      "solution_3     I did not have much challenges this week, but ...\n",
      "name_3                                              past student\n",
      "index_4                                                      156\n",
      "cos_score_4                                             0.538889\n",
      "challenge_4    There haven't really been any challenges for m...\n",
      "solution_4     Not applicable because I don't think there was...\n",
      "name_4                                              past student\n",
      "Name: 0, dtype: object\n",
      "Subject: You're Not Alone in Your Challenge!\n",
      "\n",
      "Dear [Student's Name],\n",
      "\n",
      "I hope this email finds you well. I wanted to reach out to reassure you that you are not alone in facing challenges in your coursework. Many students encounter difficulties that can sometimes feel overwhelming, but remember that there are always solutions and support available to help you overcome them.\n",
      "\n",
      "In reviewing some reflections from former students, I noticed a common theme related to challenges with understanding new concepts. For example, one student mentioned that dataflow diagrams were a new concept to them, while another student struggled with affecting the invoice. It seems like grasping new concepts can be a common challenge for students in our course.\n",
      "\n",
      "In terms of solutions, previous students have found success in various approaches. For instance, some students emphasized the importance of planning better and allocating more time to learn new concepts. Others highlighted the benefits of working collaboratively with their team to gain a deeper understanding of the material. Additionally, improving planning skills and avoiding procrastination were also mentioned as effective strategies to overcome challenges.\n",
      "\n",
      "Considering your challenge with understanding the Invoice class, I recommend the following solutions based on best practices in teaching:\n",
      "1. Reach out for help: Don't hesitate to ask questions during class or seek clarification from your instructor or classmates. Sometimes discussing concepts with others can provide new insights.\n",
      "2. Practice and review: Take the time to practice working with the Invoice class outside of class hours. Reviewing the material regularly can help reinforce your understanding.\n",
      "3. Break it down: If the concept seems complex, try breaking it down into smaller, more manageable parts. Focus on understanding each component before tackling the entire concept.\n",
      "\n",
      "Remember, facing challenges is a natural part of the learning process, and it's okay to seek help and support when needed. You're making great progress, and I have no doubt that you will overcome this challenge with perseverance and determination.\n",
      "\n",
      "If you ever need further assistance or guidance, please don't hesitate to reach out. Keep up the great work!\n",
      "\n",
      "Best regards,\n",
      "\n",
      "[Your Name]\n",
      "[Your Title]\n",
      "Subject: You're Not Alone in Your Challenge!\n",
      "\n",
      "Dear [Student's Name],\n",
      "\n",
      "I hope this email finds you well. I wanted to reach out to reassure you that you are not alone in facing challenges in your coursework. Many students encounter difficulties that can sometimes feel overwhelming, but remember that there are always solutions and support available to help you overcome them.\n",
      "\n",
      "In reviewing some reflections from former students, I noticed a common theme related to challenges with understanding new concepts. For example, one student mentioned that dataflow diagrams were a new concept to them, while another student struggled with affecting the invoice. It seems like grasping new concepts can be a common challenge for students in our course.\n",
      "\n",
      "In terms of solutions, previous students have found success in various approaches. For instance, some students emphasized the importance of planning better and allocating more time to learn new concepts. Others highlighted the benefits of working collaboratively with their team to gain a deeper understanding of the material. Additionally, improving planning skills and avoiding procrastination were also mentioned as effective strategies to overcome challenges.\n",
      "\n",
      "Considering your challenge with understanding the Invoice class, I recommend the following solutions based on best practices in teaching:\n",
      "1. Reach out for help: Don't hesitate to ask questions during class or seek clarification from your instructor or classmates. Sometimes discussing concepts with others can provide new insights.\n",
      "2. Practice and review: Take the time to practice working with the Invoice class outside of class hours. Reviewing the material regularly can help reinforce your understanding.\n",
      "3. Break it down: If the concept seems complex, try breaking it down into smaller, more manageable parts. Focus on understanding each component before tackling the entire concept.\n",
      "\n",
      "Remember, facing challenges is a natural part of the learning process, and it's okay to seek help and support when needed. You're making great progress, and I have no doubt that you will overcome this challenge with perseverance and determination.\n",
      "\n",
      "If you ever need further assistance or guidance, please don't hesitate to reach out. Keep up the great work!\n",
      "\n",
      "Best regards,\n",
      "\n",
      "[Your Name]\n",
      "[Your Title]\n"
     ]
    }
   ],
   "source": [
    "for index, student in results.iterrows():\n",
    "    \n",
    "    print(student)\n",
    "\n",
    "    current_challenge = student['reflection']\n",
    "    \n",
    "    # Initialize an empty list to hold the dictionaries\n",
    "    student_challenges = [] # note this is for previous students. top-k similar students\n",
    "    \n",
    "    # Iterate through previous K student challenges and solutions to build dictionary\n",
    "    for i in range(k):\n",
    "    \n",
    "        # Assuming there's only one row in your DataFrame as per the structure you provided\n",
    "        # For multiple rows, you'd need to adjust this to iterate over rows as well\n",
    "        student_info = {\n",
    "            \"Challenge\": student[f\"challenge_{i}\"],\n",
    "            \"Solution\": student[f\"solution_{i}\"]\n",
    "        }\n",
    "        \n",
    "        student_challenges.append(student_info)\n",
    "    \n",
    "    # Formatting the list into the required string format based on the challenge-solution dictionary\n",
    "    similar_challenges = \"\\n\\n\".join([\n",
    "        f\"Student {index + 1}:\\nChallenge: {entry['Challenge']}\\nSolution: {entry['Solution']}\"\n",
    "        for index, entry in enumerate(student_challenges)\n",
    "    ])\n",
    "    \n",
    "    # Adding triple quotes to mimic the exact output format as asked\n",
    "    similar_challenges = f\"'''\\n{similar_challenges}\\n'''\"\n",
    "\n",
    "    # Building the prompt based on the challenge-solution pairs. TODO: Make this a parameter or something\n",
    "    prompt = f''' You are an instructor who wants to help students with their challenges but also increase students' sense of belonging.\n",
    "    You are given a current students' reflection called Student Reflection. \n",
    "    \n",
    "    The reflection prompts were 'What was your biggest challenge?' and 'What is a potential solution to your challenge?'\n",
    "    \n",
    "    You are also given former students' reflections. These reflections were automatically selected by our algorithm to have the most \n",
    "    similar challenges to the student out of our dataset. However, the similarity may not be clear. Make sure the student actually\n",
    "    talks about a challenge before using it in the email.\n",
    "    \n",
    "    \n",
    "    Please write an email to the student that accomplishes the following tasks:\n",
    "    (1) Assures the student that they are not alone with their challenge, and provide a general summary of previous students' challenges.\n",
    "    (2) Identify the general topic the former students' reflections have in common, and identify how this topic relates\n",
    "    to the current student's challenge. Possible topics include: assignments, quizzes, lectures, quality of instructor, etc\n",
    "    (3) Provide a general summary of the previous students' solutions as well, and comment on the usefulness of the solutions.\n",
    "    (4) Provide your own solutions to the challenge based on your understanding of best practices in teaching.\n",
    "    \n",
    "    Students' Previous Challenges and Solutions:\n",
    "    {similar_challenges}\n",
    "    '''\n",
    "\n",
    "    print(general_prompt(prompt, current_challenge, models[0]))\n",
    "    break"
   ]
  },
  {
   "cell_type": "code",
   "execution_count": null,
   "id": "d921e633-c427-4e64-b3c2-188621efb012",
   "metadata": {},
   "outputs": [],
   "source": []
  },
  {
   "cell_type": "code",
   "execution_count": null,
   "id": "8dd74386-c297-4f0c-86dd-96d5cc7013f0",
   "metadata": {},
   "outputs": [],
   "source": []
  },
  {
   "cell_type": "code",
   "execution_count": null,
   "id": "b4e2e08a-dda5-4826-82a3-a79d05da0702",
   "metadata": {},
   "outputs": [],
   "source": []
  },
  {
   "cell_type": "code",
   "execution_count": null,
   "id": "76a78bb8-1a7c-4ac0-8677-29f8a64a9904",
   "metadata": {},
   "outputs": [],
   "source": []
  },
  {
   "cell_type": "code",
   "execution_count": null,
   "id": "907c3891-9eb5-4b12-a081-4febe3407acc",
   "metadata": {},
   "outputs": [],
   "source": []
  },
  {
   "cell_type": "code",
   "execution_count": null,
   "id": "902bd5ad-dcbe-4012-88e2-b86315883ad4",
   "metadata": {},
   "outputs": [],
   "source": []
  }
 ],
 "metadata": {
  "kernelspec": {
   "display_name": "Python 3 (ipykernel)",
   "language": "python",
   "name": "python3"
  },
  "language_info": {
   "codemirror_mode": {
    "name": "ipython",
    "version": 3
   },
   "file_extension": ".py",
   "mimetype": "text/x-python",
   "name": "python",
   "nbconvert_exporter": "python",
   "pygments_lexer": "ipython3",
   "version": "3.9.2"
  }
 },
 "nbformat": 4,
 "nbformat_minor": 5
}
