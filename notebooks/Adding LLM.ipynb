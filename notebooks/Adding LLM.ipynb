{
 "cells": [
  {
   "cell_type": "markdown",
   "id": "6e0f1a18",
   "metadata": {},
   "source": [
    "# System Updates: Adding LLM"
   ]
  },
  {
   "cell_type": "markdown",
   "id": "aecdfac6",
   "metadata": {},
   "source": [
    "Charts: https://www.canva.com/design/DAGAzyZZsoY/rkmJ2lIRU_38ONCR0-rifQ/edit?utm_content=DAGAzyZZsoY&utm_campaign=designshare&utm_medium=link2&utm_source=sharebutton"
   ]
  },
  {
   "cell_type": "markdown",
   "id": "f512ee47",
   "metadata": {},
   "source": [
    "Basically we need to figure out how to include LLM into the system. Based on the chart above, the input will be some form of the student's challenge. Optional additions would be *other* students similar challenges and/or their solutions (to be added to the LLM prompt). We will experiment with what prompts to use for good outputs.   "
   ]
  },
  {
   "cell_type": "markdown",
   "id": "f592ade7",
   "metadata": {},
   "source": [
    "## Step 1. Connect to LLM (ChatGpt) API"
   ]
  },
  {
   "cell_type": "code",
   "execution_count": 28,
   "id": "fdfcdc0a",
   "metadata": {},
   "outputs": [
    {
     "name": "stdout",
     "output_type": "stream",
     "text": [
      "Collecting openai==0.28.1\n",
      "  Using cached openai-0.28.1-py3-none-any.whl.metadata (11 kB)\n",
      "Requirement already satisfied: requests>=2.20 in d:\\projects\\reflection_rec_sys\\env\\lib\\site-packages (from openai==0.28.1) (2.31.0)\n",
      "Requirement already satisfied: tqdm in d:\\projects\\reflection_rec_sys\\env\\lib\\site-packages (from openai==0.28.1) (4.64.1)\n",
      "Requirement already satisfied: aiohttp in d:\\projects\\reflection_rec_sys\\env\\lib\\site-packages (from openai==0.28.1) (3.9.3)\n",
      "Requirement already satisfied: charset-normalizer<4,>=2 in d:\\projects\\reflection_rec_sys\\env\\lib\\site-packages (from requests>=2.20->openai==0.28.1) (2.1.1)\n",
      "Requirement already satisfied: idna<4,>=2.5 in d:\\projects\\reflection_rec_sys\\env\\lib\\site-packages (from requests>=2.20->openai==0.28.1) (3.4)\n",
      "Requirement already satisfied: urllib3<3,>=1.21.1 in d:\\projects\\reflection_rec_sys\\env\\lib\\site-packages (from requests>=2.20->openai==0.28.1) (1.26.13)\n",
      "Requirement already satisfied: certifi>=2017.4.17 in d:\\projects\\reflection_rec_sys\\env\\lib\\site-packages (from requests>=2.20->openai==0.28.1) (2022.9.24)\n",
      "Requirement already satisfied: aiosignal>=1.1.2 in d:\\projects\\reflection_rec_sys\\env\\lib\\site-packages (from aiohttp->openai==0.28.1) (1.3.1)\n",
      "Requirement already satisfied: attrs>=17.3.0 in d:\\projects\\reflection_rec_sys\\env\\lib\\site-packages (from aiohttp->openai==0.28.1) (23.2.0)\n",
      "Requirement already satisfied: frozenlist>=1.1.1 in d:\\projects\\reflection_rec_sys\\env\\lib\\site-packages (from aiohttp->openai==0.28.1) (1.4.1)\n",
      "Requirement already satisfied: multidict<7.0,>=4.5 in d:\\projects\\reflection_rec_sys\\env\\lib\\site-packages (from aiohttp->openai==0.28.1) (6.0.5)\n",
      "Requirement already satisfied: yarl<2.0,>=1.0 in d:\\projects\\reflection_rec_sys\\env\\lib\\site-packages (from aiohttp->openai==0.28.1) (1.9.4)\n",
      "Requirement already satisfied: async-timeout<5.0,>=4.0 in d:\\projects\\reflection_rec_sys\\env\\lib\\site-packages (from aiohttp->openai==0.28.1) (4.0.3)\n",
      "Requirement already satisfied: colorama in d:\\projects\\reflection_rec_sys\\env\\lib\\site-packages (from tqdm->openai==0.28.1) (0.4.6)\n",
      "Using cached openai-0.28.1-py3-none-any.whl (76 kB)\n",
      "Installing collected packages: openai\n",
      "Successfully installed openai-0.28.1\n"
     ]
    }
   ],
   "source": [
    "# First: Install it\n",
    "!pip install openai==0.28.1"
   ]
  },
  {
   "cell_type": "code",
   "execution_count": 32,
   "id": "fe31933c-2c37-4587-9e57-f72e0a48a91d",
   "metadata": {},
   "outputs": [],
   "source": [
    "# debugging stuff/some steps while figuring it out\n",
    "#!pip uninstall typing_extensions --yes\n",
    "#!pip install typing_extensions==4.7.1\n",
    "#!pip install typing_extensions==4.7.1 --upgrade\n",
    "#!pip install typing_extensions==4.8 --upgrade"
   ]
  },
  {
   "cell_type": "code",
   "execution_count": 63,
   "id": "9e15b172",
   "metadata": {},
   "outputs": [],
   "source": [
    "import openai\n",
    "import json\n",
    "import time"
   ]
  },
  {
   "cell_type": "markdown",
   "id": "2ca732d0-0849-46c9-a965-5c62d2e43520",
   "metadata": {},
   "source": [
    "We have imported an older version so things don't break (:"
   ]
  },
  {
   "cell_type": "markdown",
   "id": "faa4a089-dcb4-4ce1-9d5e-76f7f3616cd5",
   "metadata": {},
   "source": [
    "First, get the API key so we can actually do stuff. (:"
   ]
  },
  {
   "cell_type": "code",
   "execution_count": 38,
   "id": "ed82f1a2-2f5b-4afb-9f99-d8579f51504e",
   "metadata": {},
   "outputs": [],
   "source": [
    "# Load the configuration from the JSON file\n",
    "with open(\"../configs/openai_key.json\", \"r\") as config_file:\n",
    "    config = json.load(config_file)"
   ]
  },
  {
   "cell_type": "code",
   "execution_count": 39,
   "id": "ce1359a8-6816-4861-ac21-1ce66db5280e",
   "metadata": {},
   "outputs": [],
   "source": [
    "# Access the values\n",
    "openai.api_key = config[\"api_key\"]"
   ]
  },
  {
   "cell_type": "code",
   "execution_count": null,
   "id": "e7554642-b30a-490e-806b-8a5496a87571",
   "metadata": {},
   "outputs": [],
   "source": []
  },
  {
   "cell_type": "markdown",
   "id": "b6dc4f8e-0c0b-4586-ad1a-43a42a6c2be2",
   "metadata": {},
   "source": [
    "Some magical method from Sandra who has blessed us with this code.  \n",
    "Parameters:  \n",
    "- prompt: literally the prompt you are sending into chatgpt\n",
    "- input: basically whatever value(s) we want the prompt to act upon"
   ]
  },
  {
   "cell_type": "code",
   "execution_count": 60,
   "id": "db2101d0-739b-44b4-9047-c7cf807c9b1b",
   "metadata": {},
   "outputs": [],
   "source": [
    "models = [\"gpt-3.5-turbo\", \"gpt-4-0125-preview\"]"
   ]
  },
  {
   "cell_type": "code",
   "execution_count": 62,
   "id": "fb68103f-4874-4bb1-ab85-24809cc99a99",
   "metadata": {},
   "outputs": [],
   "source": [
    "def general_prompt(prompt, data, model_select=models[0]):\n",
    "        if model_select == models[0]:\n",
    "            request_timeout = 10\n",
    "        elif model_select == models[1]:\n",
    "            request_timeout = 30\n",
    "        retries = 3\n",
    "        for _ in range(retries + 1):  # Include the initial attempt plus the specified retries\n",
    "            try:\n",
    "                response = openai.ChatCompletion.create(\n",
    "                    model=model_select,\n",
    "                    messages=[\n",
    "                        # Input the prompt\n",
    "                        {\"role\": \"system\", \"content\": prompt},\n",
    "                        # Input reflection response\n",
    "                        {\"role\": \"user\", \"content\": data},\n",
    "                    ],\n",
    "                    temperature=0.7,\n",
    "                    max_tokens=2000,\n",
    "                    request_timeout=request_timeout,\n",
    "                    \n",
    "                )\n",
    "                # If the request was successful, break out of the loop\n",
    "                break\n",
    "            except openai.error.OpenAIError as e:\n",
    "                # Handle the error (e.g., print the error message)\n",
    "                print(\"Error:\", e)\n",
    "            except TimeoutError:\n",
    "                # Handle a timeout (e.g., print a message or take other actions)\n",
    "                print(\"Request timed out\")\n",
    "            \n",
    "            # Add a delay before retrying (to avoid immediate retries)\n",
    "            time.sleep(1)\n",
    "\n",
    "        if response and len(response.choices) > 0:\n",
    "            prompt_response =  str(response['choices'][0]['message']['content'])\n",
    "            print(prompt_response )\n",
    "            return (prompt_response)"
   ]
  },
  {
   "cell_type": "markdown",
   "id": "a423aeb5-d178-45e8-afca-306f1974c63f",
   "metadata": {},
   "source": [
    "## Trying out prompts\n",
    "\n",
    "First, we are asking it to generate advice based on the students challenge alone:"
   ]
  },
  {
   "cell_type": "markdown",
   "id": "599db13d-551f-4c45-a943-4f4333b83b72",
   "metadata": {},
   "source": [
    "One student's challenge is: **I would say my biggest challenge was time management. It was a little difficult for me to plan out everything the way I wanted and along with my other class work that did not help with me getting the time to do everything I needed to.**"
   ]
  },
  {
   "cell_type": "code",
   "execution_count": 51,
   "id": "dcc61270-208d-4461-ac84-061dad06a0dc",
   "metadata": {},
   "outputs": [],
   "source": [
    "prompt = ''' You are an instructor helping students with their challenges. Based on this student's challenge, what advice would you send to them?'''\n",
    "data = '''I would say my biggest challenge was time management. It was a little difficult for me to plan out everything the way I wanted and along with my other class work that did not help with me getting the time to do everything I needed to.'''"
   ]
  },
  {
   "cell_type": "code",
   "execution_count": 52,
   "id": "22af602b-0118-47ca-a116-738dde11d99a",
   "metadata": {
    "scrolled": true
   },
   "outputs": [
    {
     "name": "stdout",
     "output_type": "stream",
     "text": [
      "Time management can be a common challenge for many students, but there are strategies you can use to improve in this area. Here are some tips that may help you better manage your time:\n",
      "\n",
      "1. **Create a Schedule:** Start by creating a daily or weekly schedule that includes all your classes, assignments, study time, and other commitments. This will help you visualize how you are spending your time and identify areas where you can be more efficient.\n",
      "\n",
      "2. **Prioritize Tasks:** Make a list of tasks and prioritize them based on deadlines and importance. Focus on completing high-priority tasks first to ensure you meet your deadlines and stay on track.\n",
      "\n",
      "3. **Set Realistic Goals:** Be realistic about what you can accomplish in a given amount of time. Break down larger tasks into smaller, manageable steps to make them feel less overwhelming.\n",
      "\n",
      "4. **Eliminate Distractions:** Identify and eliminate distractions that may be taking up your time unnecessarily, such as social media, TV, or unnecessary meetings. Create a designated study space that is free from distractions.\n",
      "\n",
      "5. **Take Breaks:** It's important to take breaks to rest and recharge your mind. Schedule short breaks between study sessions to avoid burnout and improve your focus.\n",
      "\n",
      "6. **Seek Help When Needed:** Don't hesitate to reach out to your instructors, classmates, or a tutor if you're struggling with a particular subject or assignment. Asking for help can save you time in the long run.\n",
      "\n",
      "7. **Practice Self-Care:** Remember to take care of yourself by getting enough sleep, eating well, and exercising regularly. A healthy body and mind will help you stay focused and productive.\n",
      "\n",
      "By implementing these strategies and making time management a priority, you can improve your productivity and find a better balance between your academic and personal responsibilities. Don't get discouraged if you don't see immediate results – developing good time management skills takes practice and consistency. Keep experimenting with different techniques until you find what works best for you.\n"
     ]
    },
    {
     "data": {
      "text/plain": [
       "\"Time management can be a common challenge for many students, but there are strategies you can use to improve in this area. Here are some tips that may help you better manage your time:\\n\\n1. **Create a Schedule:** Start by creating a daily or weekly schedule that includes all your classes, assignments, study time, and other commitments. This will help you visualize how you are spending your time and identify areas where you can be more efficient.\\n\\n2. **Prioritize Tasks:** Make a list of tasks and prioritize them based on deadlines and importance. Focus on completing high-priority tasks first to ensure you meet your deadlines and stay on track.\\n\\n3. **Set Realistic Goals:** Be realistic about what you can accomplish in a given amount of time. Break down larger tasks into smaller, manageable steps to make them feel less overwhelming.\\n\\n4. **Eliminate Distractions:** Identify and eliminate distractions that may be taking up your time unnecessarily, such as social media, TV, or unnecessary meetings. Create a designated study space that is free from distractions.\\n\\n5. **Take Breaks:** It's important to take breaks to rest and recharge your mind. Schedule short breaks between study sessions to avoid burnout and improve your focus.\\n\\n6. **Seek Help When Needed:** Don't hesitate to reach out to your instructors, classmates, or a tutor if you're struggling with a particular subject or assignment. Asking for help can save you time in the long run.\\n\\n7. **Practice Self-Care:** Remember to take care of yourself by getting enough sleep, eating well, and exercising regularly. A healthy body and mind will help you stay focused and productive.\\n\\nBy implementing these strategies and making time management a priority, you can improve your productivity and find a better balance between your academic and personal responsibilities. Don't get discouraged if you don't see immediate results – developing good time management skills takes practice and consistency. Keep experimenting with different techniques until you find what works best for you.\""
      ]
     },
     "execution_count": 52,
     "metadata": {},
     "output_type": "execute_result"
    }
   ],
   "source": [
    "general_prompt(prompt, data)"
   ]
  },
  {
   "cell_type": "markdown",
   "id": "b6165553-8f2e-45af-a69d-778da8e1418c",
   "metadata": {},
   "source": [
    "Some of the \"similar\" challenges are:  \n",
    "- Time management was probably my biggest issue here this project. Seems like all of my other classes ramped up all at the same time for some reason so I felt like I rushed a bit with this project and didn't really get to do all that I wanted to do with it.\n",
    "- Time management seems to be the most challenging aspect this last module, simply due to an overload of work I have to complete.\n",
    "- I think the biggest challenge for me this past module was to manage my time. Because of midterm week, I found it difficult to find time all my classes and study for my midterms.Ã‚Â\n",
    "- This project's biggest challenge was the due date, I had a bunch of assignments and midterms all week, so I could not focus on the project."
   ]
  },
  {
   "cell_type": "markdown",
   "id": "1468fed1-cfac-4f24-8500-f2ab6a8c5df3",
   "metadata": {},
   "source": [
    "The current student's written solution was: \"I took steps of trying to allow certain time periods to work on my work that needed to be done.\"  \n",
    "Similar student's solutions:  \n",
    "- Coffee and a very supportive partner!\n",
    "- Looking ahead at assignments and prioritizing what is most important helped me sort through this past few weeks (although with work it was a struggle). It allowed me to allocate time to specific tasks that would require longer time-investment.\n",
    "- I tried to priortize everthing that I could and work on the project as much as I could.Ã‚Â\n",
    "- I turned in a couple days late when I could sit down and finish and give it my best effort."
   ]
  },
  {
   "cell_type": "code",
   "execution_count": 54,
   "id": "8a13f819-3a43-45f5-8824-e21e051e71bd",
   "metadata": {},
   "outputs": [],
   "source": [
    "similar_challenges = '''\n",
    "\n",
    "Student 1:\n",
    "Challenge: Time management was probably my biggest issue here this project. Seems like all of my other classes ramped up all at the same time for some reason so I felt like I rushed a bit with this project and didn't really get to do all that I wanted to do with it.\n",
    "Solution: Coffee and a very supportive partner!\n",
    "\n",
    "Student 2:\n",
    "Challenge: Time management seems to be the most challenging aspect this last module, simply due to an overload of work I have to complete.\n",
    "Solution: Looking ahead at assignments and prioritizing what is most important helped me sort through this past few weeks (although with work it was a struggle). It allowed me to allocate time to specific tasks that would require longer time-investment.\n",
    "\n",
    "Student 3:\n",
    "Challenge: I think the biggest challenge for me this past module was to manage my time. Because of midterm week, I found it difficult to find time all my classes and study for my midterms.Ã‚Â\n",
    "Solution: I tried to priortize everthing that I could and work on the project as much as I could.Ã‚Â\n",
    "\n",
    "Student 4:\n",
    "Challenge: This project's biggest challenge was the due date, I had a bunch of assignments and midterms all week, so I could not focus on the project.\n",
    "Solution:  I turned in a couple days late when I could sit down and finish and give it my best effort.\n",
    "\n",
    "'''"
   ]
  },
  {
   "cell_type": "code",
   "execution_count": 55,
   "id": "f1d97de9-fe38-4393-a15a-e28d60890ccc",
   "metadata": {},
   "outputs": [],
   "source": [
    "prompt = f''' You are an instructor who wants to help students with their challenges but also increase students' sense of belonging.\n",
    "You are given a current students' reflection called Student Reflection. \n",
    "\n",
    "The reflection prompts were What was your biggest challenge? and 'What is a potential solution to your challenge?'\n",
    "\n",
    "You are also given former students' reflections that should have similar challenges and the solutions they suggested.\n",
    "\n",
    "Please write an email to the student that accomplishes the following tasks:\n",
    "(1) Assures the student that they are not alone with their challenge, and summarize the challenges of previous students.\n",
    "(2) Summarize the previous students' solutions as well, and comment on the usefulness of the solutions.\n",
    "(3) Provide your own solutions to the challenge based on your understanding of best practices in teaching.\n",
    "\n",
    "Students' Previous Challenges:\n",
    "{similar_challenges}\n",
    "\n",
    "'''\n"
   ]
  },
  {
   "cell_type": "markdown",
   "id": "cca4ee39-e4bc-4ed1-acab-7d89934faac2",
   "metadata": {},
   "source": [
    "### We are testing with 3.5 here."
   ]
  },
  {
   "cell_type": "code",
   "execution_count": 56,
   "id": "eaf9333d-41a5-4b04-acff-d740bb3347c7",
   "metadata": {},
   "outputs": [
    {
     "name": "stdout",
     "output_type": "stream",
     "text": [
      "Subject: You're not alone in this challenge - Solutions to improve time management\n",
      "\n",
      "Dear Student,\n",
      "\n",
      "I hope this email finds you well. I read your reflection and want to assure you that you are not alone in facing time management challenges. Many students in the past have also struggled with similar issues. Let me summarize some of their challenges for you:\n",
      "\n",
      "- Student 1 felt rushed with their project due to other classes ramping up simultaneously.\n",
      "- Student 2 faced time management difficulties due to an overload of work.\n",
      "- Student 3 found it hard to manage time during midterm week.\n",
      "- Student 4 struggled to focus on the project due to multiple assignments and midterms.\n",
      "\n",
      "In terms of solutions, previous students have shared some helpful strategies:\n",
      "- Student 1 found support in coffee and a supportive partner.\n",
      "- Student 2 overcame the challenge by looking ahead at assignments and prioritizing tasks.\n",
      "- Student 3 prioritized tasks and worked on the project whenever possible.\n",
      "- Student 4 submitted the project a few days late to ensure they could give it their best effort.\n",
      "\n",
      "These solutions have proven useful for many students. Planning ahead, prioritizing tasks, seeking support, and allowing flexibility with deadlines are effective ways to manage time efficiently.\n",
      "\n",
      "In addition to these strategies, I recommend breaking down your tasks into smaller, manageable chunks, creating a daily schedule, and utilizing time management tools like calendars or apps. Setting realistic goals and setting aside dedicated time for each task can also help you stay on track.\n",
      "\n",
      "Remember, it's okay to ask for help when needed, whether from your instructors, classmates, or academic support services. We are here to support you in overcoming these challenges and succeeding in your academic journey.\n",
      "\n",
      "If you need any further assistance or guidance on improving your time management skills, please don't hesitate to reach out. Your success is important to us, and we are here to help you every step of the way.\n",
      "\n",
      "Best regards,\n",
      "\n",
      "[Your Name]\n",
      "[Your Title]\n",
      "[Your Contact Information]\n"
     ]
    },
    {
     "data": {
      "text/plain": [
       "\"Subject: You're not alone in this challenge - Solutions to improve time management\\n\\nDear Student,\\n\\nI hope this email finds you well. I read your reflection and want to assure you that you are not alone in facing time management challenges. Many students in the past have also struggled with similar issues. Let me summarize some of their challenges for you:\\n\\n- Student 1 felt rushed with their project due to other classes ramping up simultaneously.\\n- Student 2 faced time management difficulties due to an overload of work.\\n- Student 3 found it hard to manage time during midterm week.\\n- Student 4 struggled to focus on the project due to multiple assignments and midterms.\\n\\nIn terms of solutions, previous students have shared some helpful strategies:\\n- Student 1 found support in coffee and a supportive partner.\\n- Student 2 overcame the challenge by looking ahead at assignments and prioritizing tasks.\\n- Student 3 prioritized tasks and worked on the project whenever possible.\\n- Student 4 submitted the project a few days late to ensure they could give it their best effort.\\n\\nThese solutions have proven useful for many students. Planning ahead, prioritizing tasks, seeking support, and allowing flexibility with deadlines are effective ways to manage time efficiently.\\n\\nIn addition to these strategies, I recommend breaking down your tasks into smaller, manageable chunks, creating a daily schedule, and utilizing time management tools like calendars or apps. Setting realistic goals and setting aside dedicated time for each task can also help you stay on track.\\n\\nRemember, it's okay to ask for help when needed, whether from your instructors, classmates, or academic support services. We are here to support you in overcoming these challenges and succeeding in your academic journey.\\n\\nIf you need any further assistance or guidance on improving your time management skills, please don't hesitate to reach out. Your success is important to us, and we are here to help you every step of the way.\\n\\nBest regards,\\n\\n[Your Name]\\n[Your Title]\\n[Your Contact Information]\""
      ]
     },
     "execution_count": 56,
     "metadata": {},
     "output_type": "execute_result"
    }
   ],
   "source": [
    "general_prompt(prompt, data)"
   ]
  },
  {
   "cell_type": "markdown",
   "id": "4dc779ae-336e-404b-9abe-0694680bdfba",
   "metadata": {},
   "source": [
    "### Now we are looking at gpt 4."
   ]
  },
  {
   "cell_type": "code",
   "execution_count": 64,
   "id": "f6840a36-7f09-4a3b-8618-651f6237782e",
   "metadata": {},
   "outputs": [
    {
     "name": "stdout",
     "output_type": "stream",
     "text": [
      "Error: Request timed out: HTTPSConnectionPool(host='api.openai.com', port=443): Read timed out. (read timeout=30)\n",
      "Error: Request timed out: HTTPSConnectionPool(host='api.openai.com', port=443): Read timed out. (read timeout=30)\n",
      "Subject: You're Not Alone: Strategies for Overcoming Time Management Challenges\n",
      "\n",
      "Dear [Student's Name],\n",
      "\n",
      "I hope this message finds you well. I wanted to reach out to you after reading your recent reflection on the challenges you've been facing, particularly around time management. It's clear that balancing your workload and finding the time to complete everything to your satisfaction has been a struggle. I want to assure you that you are not alone in this.\n",
      "\n",
      "Many of your peers have shared similar experiences in their reflections. For example, several students have mentioned that coinciding deadlines across different subjects, midterm weeks, and the overall increase in workload significantly impacted their ability to manage their time effectively. It's a common challenge, especially in rigorous academic environments.\n",
      "\n",
      "From their reflections, a few potential solutions emerged. One student found relief in the support of their partner and the strategic use of caffeine, highlighting the importance of having a support system and sometimes, a bit of a boost to get through intensive periods. Another student tackled the issue by planning ahead, prioritizing assignments based on importance and deadline, which helped them allocate their time more efficiently, even though it was still a struggle due to work commitments. Similarly, prioritizing tasks and dedicating time to the most immediate needs was a strategy others found somewhat helpful. And then, there was a student who opted for negotiating a later submission to ensure they could deliver their work at their best, emphasizing quality over punctuality in extreme cases.\n",
      "\n",
      "While these solutions have their merits, they also reflect the need for a more structured approach to managing time effectively. Here are a few strategies I believe could further assist you:\n",
      "\n",
      "1. **Use a Digital Planner or Calendar**: Leveraging technology can help you visualize your deadlines and commitments. Setting reminders for upcoming deadlines can also keep you on track.\n",
      "\n",
      "2. **Break Down Tasks**: Large projects can seem overwhelming. Breaking them down into smaller, manageable tasks can make it easier to start and maintain momentum.\n",
      "\n",
      "3. **Establish a Routine**: Try to set specific times for studying, breaks, and leisure. A consistent routine can help improve focus and efficiency.\n",
      "\n",
      "4. **Learn to Say No**: It's important to recognize your limits and not overcommit, especially during peak academic periods.\n",
      "\n",
      "5. **Seek Support**: Don't hesitate to discuss your workload with your instructors. We're here to help you succeed and can sometimes offer extensions or advice on managing your workload.\n",
      "\n",
      "Remember, it's perfectly okay to seek out help and use these strategies to find what works best for you. Each student's situation is unique, but the goal is to find a balance that allows you to excel without overwhelming yourself. Please feel free to reach out if you'd like to discuss this further or need support in any way. You're part of a community that cares about your success and well-being.\n",
      "\n",
      "Wishing you the best,\n",
      "\n",
      "[Your Name]\n"
     ]
    },
    {
     "data": {
      "text/plain": [
       "\"Subject: You're Not Alone: Strategies for Overcoming Time Management Challenges\\n\\nDear [Student's Name],\\n\\nI hope this message finds you well. I wanted to reach out to you after reading your recent reflection on the challenges you've been facing, particularly around time management. It's clear that balancing your workload and finding the time to complete everything to your satisfaction has been a struggle. I want to assure you that you are not alone in this.\\n\\nMany of your peers have shared similar experiences in their reflections. For example, several students have mentioned that coinciding deadlines across different subjects, midterm weeks, and the overall increase in workload significantly impacted their ability to manage their time effectively. It's a common challenge, especially in rigorous academic environments.\\n\\nFrom their reflections, a few potential solutions emerged. One student found relief in the support of their partner and the strategic use of caffeine, highlighting the importance of having a support system and sometimes, a bit of a boost to get through intensive periods. Another student tackled the issue by planning ahead, prioritizing assignments based on importance and deadline, which helped them allocate their time more efficiently, even though it was still a struggle due to work commitments. Similarly, prioritizing tasks and dedicating time to the most immediate needs was a strategy others found somewhat helpful. And then, there was a student who opted for negotiating a later submission to ensure they could deliver their work at their best, emphasizing quality over punctuality in extreme cases.\\n\\nWhile these solutions have their merits, they also reflect the need for a more structured approach to managing time effectively. Here are a few strategies I believe could further assist you:\\n\\n1. **Use a Digital Planner or Calendar**: Leveraging technology can help you visualize your deadlines and commitments. Setting reminders for upcoming deadlines can also keep you on track.\\n\\n2. **Break Down Tasks**: Large projects can seem overwhelming. Breaking them down into smaller, manageable tasks can make it easier to start and maintain momentum.\\n\\n3. **Establish a Routine**: Try to set specific times for studying, breaks, and leisure. A consistent routine can help improve focus and efficiency.\\n\\n4. **Learn to Say No**: It's important to recognize your limits and not overcommit, especially during peak academic periods.\\n\\n5. **Seek Support**: Don't hesitate to discuss your workload with your instructors. We're here to help you succeed and can sometimes offer extensions or advice on managing your workload.\\n\\nRemember, it's perfectly okay to seek out help and use these strategies to find what works best for you. Each student's situation is unique, but the goal is to find a balance that allows you to excel without overwhelming yourself. Please feel free to reach out if you'd like to discuss this further or need support in any way. You're part of a community that cares about your success and well-being.\\n\\nWishing you the best,\\n\\n[Your Name]\""
      ]
     },
     "execution_count": 64,
     "metadata": {},
     "output_type": "execute_result"
    }
   ],
   "source": [
    "general_prompt(prompt, data, models[1])"
   ]
  },
  {
   "cell_type": "code",
   "execution_count": null,
   "id": "f5322d6f-6910-4c5a-96d4-d19a40cf030c",
   "metadata": {},
   "outputs": [],
   "source": []
  }
 ],
 "metadata": {
  "kernelspec": {
   "display_name": "Python 3 (ipykernel)",
   "language": "python",
   "name": "python3"
  },
  "language_info": {
   "codemirror_mode": {
    "name": "ipython",
    "version": 3
   },
   "file_extension": ".py",
   "mimetype": "text/x-python",
   "name": "python",
   "nbconvert_exporter": "python",
   "pygments_lexer": "ipython3",
   "version": "3.9.2"
  }
 },
 "nbformat": 4,
 "nbformat_minor": 5
}
